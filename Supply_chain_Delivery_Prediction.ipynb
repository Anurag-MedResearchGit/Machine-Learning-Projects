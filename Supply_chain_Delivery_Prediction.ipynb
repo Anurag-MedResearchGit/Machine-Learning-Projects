{
  "nbformat": 4,
  "nbformat_minor": 0,
  "metadata": {
    "colab": {
      "provenance": []
    },
    "kernelspec": {
      "name": "python3",
      "display_name": "Python 3"
    },
    "language_info": {
      "name": "python"
    }
  },
  "cells": [
    {
      "cell_type": "code",
      "execution_count": null,
      "metadata": {
        "colab": {
          "base_uri": "https://localhost:8080/"
        },
        "id": "HaJPWj9mg7Qr",
        "outputId": "499f0b04-475c-4b71-f42e-f673e0cbc462"
      },
      "outputs": [
        {
          "output_type": "stream",
          "name": "stderr",
          "text": [
            "/usr/local/lib/python3.7/dist-packages/statsmodels/tools/_testing.py:19: FutureWarning: pandas.util.testing is deprecated. Use the functions in the public API at pandas.testing instead.\n",
            "  import pandas.util.testing as tm\n"
          ]
        }
      ],
      "source": [
        "#Import all required libraries\n",
        "\n",
        "import pandas as pd\n",
        "import numpy as np\n",
        "import matplotlib.pyplot as plt\n",
        "import seaborn as sns\n",
        "import datetime as dt\n",
        "import statsmodels.api as sm\n",
        "from sklearn.model_selection import train_test_split,cross_val_score, cross_val_predict\n",
        "from sklearn.linear_model import LogisticRegression\n",
        "from sklearn import svm,metrics,tree,preprocessing,linear_model\n",
        "from sklearn.naive_bayes import GaussianNB\n",
        "from sklearn.neighbors import KNeighborsClassifier\n",
        "from sklearn.tree import DecisionTreeRegressor\n",
        "from sklearn.metrics import accuracy_score,mean_squared_error,recall_score,confusion_matrix,f1_score,roc_curve, auc\n",
        "\n"
      ]
    },
    {
      "cell_type": "code",
      "source": [
        "from google.colab import drive\n",
        "drive.mount('/content/drive')"
      ],
      "metadata": {
        "colab": {
          "base_uri": "https://localhost:8080/"
        },
        "id": "flSPGkMMhFKl",
        "outputId": "57025e1f-c9b8-4abc-9378-55d3665247a1"
      },
      "execution_count": null,
      "outputs": [
        {
          "output_type": "stream",
          "name": "stdout",
          "text": [
            "Drive already mounted at /content/drive; to attempt to forcibly remount, call drive.mount(\"/content/drive\", force_remount=True).\n"
          ]
        }
      ]
    },
    {
      "cell_type": "code",
      "source": [
        "Supply_chain = pd.read_excel('/content/drive/MyDrive/Supply Chain Dataset.xlsx')\n",
        "Supply_chain.head(5)"
      ],
      "metadata": {
        "colab": {
          "base_uri": "https://localhost:8080/",
          "height": 327
        },
        "id": "Nh9rs6lahJ_H",
        "outputId": "b00e55e2-f8c8-4230-f617-0ca5673dd1e3"
      },
      "execution_count": null,
      "outputs": [
        {
          "output_type": "execute_result",
          "data": {
            "text/html": [
              "<div>\n",
              "<style scoped>\n",
              "    .dataframe tbody tr th:only-of-type {\n",
              "        vertical-align: middle;\n",
              "    }\n",
              "\n",
              "    .dataframe tbody tr th {\n",
              "        vertical-align: top;\n",
              "    }\n",
              "\n",
              "    .dataframe thead th {\n",
              "        text-align: right;\n",
              "    }\n",
              "</style>\n",
              "<table border=\"1\" class=\"dataframe\">\n",
              "  <thead>\n",
              "    <tr style=\"text-align: right;\">\n",
              "      <th></th>\n",
              "      <th>Type</th>\n",
              "      <th>Type Dummy</th>\n",
              "      <th>Days for shipment (scheduled)</th>\n",
              "      <th>Shipping Mode Dummy</th>\n",
              "      <th>Shipping Mode</th>\n",
              "      <th>Order Status</th>\n",
              "      <th>Order Status dummy</th>\n",
              "      <th>Latitude</th>\n",
              "      <th>Longitude</th>\n",
              "      <th>Order Item Quantity</th>\n",
              "      <th>Late_delivery</th>\n",
              "    </tr>\n",
              "  </thead>\n",
              "  <tbody>\n",
              "    <tr>\n",
              "      <th>0</th>\n",
              "      <td>PAYMENT</td>\n",
              "      <td>3</td>\n",
              "      <td>4</td>\n",
              "      <td>4</td>\n",
              "      <td>Standard Class</td>\n",
              "      <td>PENDING_PAYMENT</td>\n",
              "      <td>7</td>\n",
              "      <td>39.564655</td>\n",
              "      <td>-87.289413</td>\n",
              "      <td>2</td>\n",
              "      <td>1</td>\n",
              "    </tr>\n",
              "    <tr>\n",
              "      <th>1</th>\n",
              "      <td>DEBIT</td>\n",
              "      <td>2</td>\n",
              "      <td>4</td>\n",
              "      <td>4</td>\n",
              "      <td>Standard Class</td>\n",
              "      <td>COMPLETE</td>\n",
              "      <td>3</td>\n",
              "      <td>18.282019</td>\n",
              "      <td>-66.370567</td>\n",
              "      <td>4</td>\n",
              "      <td>1</td>\n",
              "    </tr>\n",
              "    <tr>\n",
              "      <th>2</th>\n",
              "      <td>DEBIT</td>\n",
              "      <td>2</td>\n",
              "      <td>4</td>\n",
              "      <td>4</td>\n",
              "      <td>Standard Class</td>\n",
              "      <td>ON_HOLD</td>\n",
              "      <td>4</td>\n",
              "      <td>33.993874</td>\n",
              "      <td>-117.767746</td>\n",
              "      <td>1</td>\n",
              "      <td>0</td>\n",
              "    </tr>\n",
              "    <tr>\n",
              "      <th>3</th>\n",
              "      <td>DEBIT</td>\n",
              "      <td>2</td>\n",
              "      <td>4</td>\n",
              "      <td>4</td>\n",
              "      <td>Standard Class</td>\n",
              "      <td>ON_HOLD</td>\n",
              "      <td>4</td>\n",
              "      <td>18.227573</td>\n",
              "      <td>-66.043434</td>\n",
              "      <td>3</td>\n",
              "      <td>1</td>\n",
              "    </tr>\n",
              "    <tr>\n",
              "      <th>4</th>\n",
              "      <td>DEBIT</td>\n",
              "      <td>2</td>\n",
              "      <td>4</td>\n",
              "      <td>4</td>\n",
              "      <td>Standard Class</td>\n",
              "      <td>COMPLETE</td>\n",
              "      <td>3</td>\n",
              "      <td>18.239571</td>\n",
              "      <td>-66.370613</td>\n",
              "      <td>3</td>\n",
              "      <td>1</td>\n",
              "    </tr>\n",
              "  </tbody>\n",
              "</table>\n",
              "</div>"
            ],
            "text/plain": [
              "      Type  Type Dummy  ...  Order Item Quantity  Late_delivery\n",
              "0  PAYMENT           3  ...                    2              1\n",
              "1    DEBIT           2  ...                    4              1\n",
              "2    DEBIT           2  ...                    1              0\n",
              "3    DEBIT           2  ...                    3              1\n",
              "4    DEBIT           2  ...                    3              1\n",
              "\n",
              "[5 rows x 11 columns]"
            ]
          },
          "metadata": {},
          "execution_count": 4
        }
      ]
    },
    {
      "cell_type": "code",
      "source": [
        "# Unique label of our prediction variable\n",
        "print(Supply_chain['Late_delivery'].unique())\n",
        "  # Here 1 indicates On-time delivery and 0 indicates delay in delivery."
      ],
      "metadata": {
        "colab": {
          "base_uri": "https://localhost:8080/"
        },
        "id": "-wEz4N47hbDI",
        "outputId": "234eb29b-dd5d-47f4-a938-b05ec146ae85"
      },
      "execution_count": null,
      "outputs": [
        {
          "output_type": "stream",
          "name": "stdout",
          "text": [
            "[1 0]\n"
          ]
        }
      ]
    },
    {
      "cell_type": "code",
      "source": [
        "# Records under supply chian dataset.\n",
        "\n",
        "print(Supply_chain.shape)"
      ],
      "metadata": {
        "colab": {
          "base_uri": "https://localhost:8080/"
        },
        "id": "z1veu0Vjtb2A",
        "outputId": "905f72ee-da93-4621-b28c-1482d5db3c6e"
      },
      "execution_count": null,
      "outputs": [
        {
          "output_type": "stream",
          "name": "stdout",
          "text": [
            "(180519, 11)\n"
          ]
        }
      ]
    },
    {
      "cell_type": "code",
      "source": [
        "#Data Statistics\n",
        "\n",
        "Supply_chain.describe()"
      ],
      "metadata": {
        "colab": {
          "base_uri": "https://localhost:8080/",
          "height": 317
        },
        "id": "xP_VjrBLt4X_",
        "outputId": "0e1e3367-3e84-474f-9ee8-ad94b1340655"
      },
      "execution_count": null,
      "outputs": [
        {
          "output_type": "execute_result",
          "data": {
            "text/html": [
              "<div>\n",
              "<style scoped>\n",
              "    .dataframe tbody tr th:only-of-type {\n",
              "        vertical-align: middle;\n",
              "    }\n",
              "\n",
              "    .dataframe tbody tr th {\n",
              "        vertical-align: top;\n",
              "    }\n",
              "\n",
              "    .dataframe thead th {\n",
              "        text-align: right;\n",
              "    }\n",
              "</style>\n",
              "<table border=\"1\" class=\"dataframe\">\n",
              "  <thead>\n",
              "    <tr style=\"text-align: right;\">\n",
              "      <th></th>\n",
              "      <th>Type Dummy</th>\n",
              "      <th>Days for shipment (scheduled)</th>\n",
              "      <th>Shipping Mode Dummy</th>\n",
              "      <th>Order Status dummy</th>\n",
              "      <th>Latitude</th>\n",
              "      <th>Longitude</th>\n",
              "      <th>Order Item Quantity</th>\n",
              "      <th>Late_delivery</th>\n",
              "    </tr>\n",
              "  </thead>\n",
              "  <tbody>\n",
              "    <tr>\n",
              "      <th>count</th>\n",
              "      <td>180519.000000</td>\n",
              "      <td>180519.000000</td>\n",
              "      <td>180519.000000</td>\n",
              "      <td>180519.000000</td>\n",
              "      <td>180519.000000</td>\n",
              "      <td>180519.000000</td>\n",
              "      <td>180519.000000</td>\n",
              "      <td>180519.000000</td>\n",
              "    </tr>\n",
              "    <tr>\n",
              "      <th>mean</th>\n",
              "      <td>2.675137</td>\n",
              "      <td>2.931847</td>\n",
              "      <td>3.234806</td>\n",
              "      <td>4.886123</td>\n",
              "      <td>29.719955</td>\n",
              "      <td>-84.915675</td>\n",
              "      <td>2.127638</td>\n",
              "      <td>0.451709</td>\n",
              "    </tr>\n",
              "    <tr>\n",
              "      <th>std</th>\n",
              "      <td>0.994647</td>\n",
              "      <td>1.374449</td>\n",
              "      <td>1.100920</td>\n",
              "      <td>2.260851</td>\n",
              "      <td>9.813646</td>\n",
              "      <td>21.433241</td>\n",
              "      <td>1.453451</td>\n",
              "      <td>0.497664</td>\n",
              "    </tr>\n",
              "    <tr>\n",
              "      <th>min</th>\n",
              "      <td>1.000000</td>\n",
              "      <td>0.000000</td>\n",
              "      <td>1.000000</td>\n",
              "      <td>1.000000</td>\n",
              "      <td>-33.937553</td>\n",
              "      <td>-158.025986</td>\n",
              "      <td>1.000000</td>\n",
              "      <td>0.000000</td>\n",
              "    </tr>\n",
              "    <tr>\n",
              "      <th>25%</th>\n",
              "      <td>2.000000</td>\n",
              "      <td>2.000000</td>\n",
              "      <td>3.000000</td>\n",
              "      <td>3.000000</td>\n",
              "      <td>18.265432</td>\n",
              "      <td>-98.446312</td>\n",
              "      <td>1.000000</td>\n",
              "      <td>0.000000</td>\n",
              "    </tr>\n",
              "    <tr>\n",
              "      <th>50%</th>\n",
              "      <td>3.000000</td>\n",
              "      <td>4.000000</td>\n",
              "      <td>4.000000</td>\n",
              "      <td>4.000000</td>\n",
              "      <td>33.144863</td>\n",
              "      <td>-76.847908</td>\n",
              "      <td>1.000000</td>\n",
              "      <td>0.000000</td>\n",
              "    </tr>\n",
              "    <tr>\n",
              "      <th>75%</th>\n",
              "      <td>4.000000</td>\n",
              "      <td>4.000000</td>\n",
              "      <td>4.000000</td>\n",
              "      <td>7.000000</td>\n",
              "      <td>39.279617</td>\n",
              "      <td>-66.370583</td>\n",
              "      <td>3.000000</td>\n",
              "      <td>1.000000</td>\n",
              "    </tr>\n",
              "    <tr>\n",
              "      <th>max</th>\n",
              "      <td>4.000000</td>\n",
              "      <td>4.000000</td>\n",
              "      <td>4.000000</td>\n",
              "      <td>9.000000</td>\n",
              "      <td>48.781933</td>\n",
              "      <td>115.263077</td>\n",
              "      <td>5.000000</td>\n",
              "      <td>1.000000</td>\n",
              "    </tr>\n",
              "  </tbody>\n",
              "</table>\n",
              "</div>"
            ],
            "text/plain": [
              "          Type Dummy  ...  Late_delivery\n",
              "count  180519.000000  ...  180519.000000\n",
              "mean        2.675137  ...       0.451709\n",
              "std         0.994647  ...       0.497664\n",
              "min         1.000000  ...       0.000000\n",
              "25%         2.000000  ...       0.000000\n",
              "50%         3.000000  ...       0.000000\n",
              "75%         4.000000  ...       1.000000\n",
              "max         4.000000  ...       1.000000\n",
              "\n",
              "[8 rows x 8 columns]"
            ]
          },
          "metadata": {},
          "execution_count": 7
        }
      ]
    },
    {
      "cell_type": "code",
      "source": [
        "# Classes count\n",
        "\n",
        "print(Supply_chain.groupby('Late_delivery').size())"
      ],
      "metadata": {
        "colab": {
          "base_uri": "https://localhost:8080/"
        },
        "id": "2AmOItO7t_OS",
        "outputId": "e615eba2-57c2-4aa3-e4ed-2635495473f5"
      },
      "execution_count": null,
      "outputs": [
        {
          "output_type": "stream",
          "name": "stdout",
          "text": [
            "Late_delivery\n",
            "0    98977\n",
            "1    81542\n",
            "dtype: int64\n"
          ]
        }
      ]
    },
    {
      "cell_type": "code",
      "source": [
        "# Graphical Summary of Categorical Prediction variable.\n",
        "import seaborn as sns\n",
        "sns.countplot(Supply_chain['Late_delivery'],label=\"Count\")\n",
        "plt.show()"
      ],
      "metadata": {
        "colab": {
          "base_uri": "https://localhost:8080/",
          "height": 335
        },
        "id": "onQusa03uMwB",
        "outputId": "10004a5a-c0fb-4139-e352-814a4d509dfa"
      },
      "execution_count": null,
      "outputs": [
        {
          "output_type": "stream",
          "name": "stderr",
          "text": [
            "/usr/local/lib/python3.7/dist-packages/seaborn/_decorators.py:43: FutureWarning: Pass the following variable as a keyword arg: x. From version 0.12, the only valid positional argument will be `data`, and passing other arguments without an explicit keyword will result in an error or misinterpretation.\n",
            "  FutureWarning\n"
          ]
        },
        {
          "output_type": "display_data",
          "data": {
            "image/png": "[encoded data removed]",
            "text/plain": [
              "<Figure size 432x288 with 1 Axes>"
            ]
          },
          "metadata": {
            "needs_background": "light"
          }
        }
      ]
    },
    {
      "cell_type": "markdown",
      "source": [
        "Independent Variables Summary"
      ],
      "metadata": {
        "id": "q8GxXprsurLg"
      }
    },
    {
      "cell_type": "code",
      "source": [
        "# Shipping Mode Count\n",
        "sns.countplot(Supply_chain['Shipping Mode'],label=\"Count\")\n",
        "plt.show()"
      ],
      "metadata": {
        "colab": {
          "base_uri": "https://localhost:8080/",
          "height": 334
        },
        "id": "9PdZUzQiumRG",
        "outputId": "fc397394-6c82-42f6-df76-b96ee0e9607c"
      },
      "execution_count": null,
      "outputs": [
        {
          "output_type": "stream",
          "name": "stderr",
          "text": [
            "/usr/local/lib/python3.7/dist-packages/seaborn/_decorators.py:43: FutureWarning: Pass the following variable as a keyword arg: x. From version 0.12, the only valid positional argument will be `data`, and passing other arguments without an explicit keyword will result in an error or misinterpretation.\n",
            "  FutureWarning\n"
          ]
        },
        {
          "output_type": "display_data",
          "data": {
            "image/png": "[encoded data removed]",
            "text/plain": [
              "<Figure size 432x288 with 1 Axes>"
            ]
          },
          "metadata": {
            "needs_background": "light"
          }
        }
      ]
    },
    {
      "cell_type": "code",
      "source": [
        "# Payment Type Count\n",
        "sns.countplot(Supply_chain['Type'],label=\"Count\")\n",
        "plt.show()"
      ],
      "metadata": {
        "colab": {
          "base_uri": "https://localhost:8080/",
          "height": 334
        },
        "id": "WKHClml_uyEH",
        "outputId": "1830af4c-0dfc-481b-8fad-bc26e04b670a"
      },
      "execution_count": null,
      "outputs": [
        {
          "output_type": "stream",
          "name": "stderr",
          "text": [
            "/usr/local/lib/python3.7/dist-packages/seaborn/_decorators.py:43: FutureWarning: Pass the following variable as a keyword arg: x. From version 0.12, the only valid positional argument will be `data`, and passing other arguments without an explicit keyword will result in an error or misinterpretation.\n",
            "  FutureWarning\n"
          ]
        },
        {
          "output_type": "display_data",
          "data": {
            "image/png": "[encoded data removed]",
            "text/plain": [
              "<Figure size 432x288 with 1 Axes>"
            ]
          },
          "metadata": {
            "needs_background": "light"
          }
        }
      ]
    },
    {
      "cell_type": "code",
      "source": [
        "# Order item count\n",
        "sns.countplot(Supply_chain['Order Item Quantity'],label=\"Count\")\n",
        "plt.show()"
      ],
      "metadata": {
        "colab": {
          "base_uri": "https://localhost:8080/",
          "height": 334
        },
        "id": "X5WH59KVu4tx",
        "outputId": "7a0ff584-adf6-4197-af11-40d16ee68e51"
      },
      "execution_count": null,
      "outputs": [
        {
          "output_type": "stream",
          "name": "stderr",
          "text": [
            "/usr/local/lib/python3.7/dist-packages/seaborn/_decorators.py:43: FutureWarning: Pass the following variable as a keyword arg: x. From version 0.12, the only valid positional argument will be `data`, and passing other arguments without an explicit keyword will result in an error or misinterpretation.\n",
            "  FutureWarning\n"
          ]
        },
        {
          "output_type": "display_data",
          "data": {
            "image/png": "[encoded data removed]",
            "text/plain": [
              "<Figure size 432x288 with 1 Axes>"
            ]
          },
          "metadata": {
            "needs_background": "light"
          }
        }
      ]
    },
    {
      "cell_type": "code",
      "source": [
        "# Dataset Info to know variable is int or object because machine learning classifier works on int type variables.\n",
        "Supply_chain.info()"
      ],
      "metadata": {
        "colab": {
          "base_uri": "https://localhost:8080/"
        },
        "id": "dMHBnkWiu_gg",
        "outputId": "1d6c2e57-38a1-4013-c313-f11d47da25ea"
      },
      "execution_count": null,
      "outputs": [
        {
          "output_type": "stream",
          "name": "stdout",
          "text": [
            "<class 'pandas.core.frame.DataFrame'>\n",
            "RangeIndex: 180519 entries, 0 to 180518\n",
            "Data columns (total 11 columns):\n",
            " #   Column                         Non-Null Count   Dtype  \n",
            "---  ------                         --------------   -----  \n",
            " 0   Type                           180519 non-null  object \n",
            " 1   Type Dummy                     180519 non-null  int64  \n",
            " 2   Days for shipment (scheduled)  180519 non-null  int64  \n",
            " 3   Shipping Mode Dummy            180519 non-null  int64  \n",
            " 4   Shipping Mode                  180519 non-null  object \n",
            " 5   Order Status                   180519 non-null  object \n",
            " 6   Order Status dummy             180519 non-null  int64  \n",
            " 7   Latitude                       180519 non-null  float64\n",
            " 8   Longitude                      180519 non-null  float64\n",
            " 9   Order Item Quantity            180519 non-null  int64  \n",
            " 10  Late_delivery                  180519 non-null  int64  \n",
            "dtypes: float64(2), int64(6), object(3)\n",
            "memory usage: 15.1+ MB\n"
          ]
        }
      ]
    },
    {
      "cell_type": "markdown",
      "source": [
        "Modelling"
      ],
      "metadata": {
        "id": "V01YLuAnvgUe"
      }
    },
    {
      "cell_type": "code",
      "source": [
        "# Feature Selection\n",
        "\n",
        "feature_names = ['Days for shipment (scheduled)', 'Shipping Mode Dummy', 'Order Item Quantity',\n",
        "                 'Latitude','Longitude','Type Dummy','Order Status dummy']\n",
        "x = Supply_chain[feature_names]\n",
        "y = Supply_chain['Late_delivery'] \n",
        "\n"
      ],
      "metadata": {
        "id": "q3EzYXSwhNUE"
      },
      "execution_count": null,
      "outputs": []
    },
    {
      "cell_type": "code",
      "source": [
        "#Spilitting train and test data. \n",
        "\n",
        "# train data = 80%\n",
        "# test data  = 20%\n",
        "\n",
        "x_train, x_test,y_train,y_test = train_test_split(x,y,test_size = 0.2, random_state = 42)"
      ],
      "metadata": {
        "id": "tBt58G10jjsd"
      },
      "execution_count": null,
      "outputs": []
    },
    {
      "cell_type": "code",
      "source": [
        "def classifiermodel(model_l,x_train, x_test,y_train,y_test):\n",
        "   model_l = model_l.fit(x_train,y_train)\n",
        "   y_pred=model_l.predict(x_test) \n",
        "   accuracy_l=accuracy_score(y_pred, y_test)\n",
        "   recall_l=recall_score(y_pred, y_test)\n",
        "   conf_l=confusion_matrix(y_test, y_pred)\n",
        "   f1_l=f1_score(y_test, y_pred)\n",
        "   print('Accuracy is:', (accuracy_l)*100,'%')\n",
        "   print('Conf Matrix of is: \\n',(conf_l))\n",
        "   print('Recall score is:', (recall_l)*100,'%')\n",
        "   print('F1 score is:', (f1_l)*100,'%')"
      ],
      "metadata": {
        "id": "TsVOxi0Zhzo4"
      },
      "execution_count": null,
      "outputs": []
    },
    {
      "cell_type": "code",
      "source": [
        "# Logistic regression Model\n",
        "model_l = LogisticRegression(solver='lbfgs',random_state=0)\n",
        "classifiermodel(model_l,x_train, x_test,y_train,y_test)"
      ],
      "metadata": {
        "colab": {
          "base_uri": "https://localhost:8080/"
        },
        "id": "WD73tVWmjHws",
        "outputId": "19d76724-488b-4425-d895-fbe63e388bb3"
      },
      "execution_count": null,
      "outputs": [
        {
          "output_type": "stream",
          "name": "stdout",
          "text": [
            "Accuracy is: 68.50210502991358 %\n",
            "Conf Matrix of is: \n",
            " [[11118  8649]\n",
            " [ 2723 13614]]\n",
            "Recall score is: 61.150788303463145 %\n",
            "F1 score is: 70.53886010362693 %\n"
          ]
        }
      ]
    },
    {
      "cell_type": "code",
      "source": [
        "# GaussianNB Classifier Model\n",
        "model_l = GaussianNB()\n",
        "classifiermodel(model_l,x_train, x_test,y_train,y_test)"
      ],
      "metadata": {
        "colab": {
          "base_uri": "https://localhost:8080/"
        },
        "id": "DzGgAS3rhsfc",
        "outputId": "e1f2ec09-8295-4e05-d1cb-9434689be7fc"
      },
      "execution_count": null,
      "outputs": [
        {
          "output_type": "stream",
          "name": "stdout",
          "text": [
            "Accuracy is: 69.0477509417239 %\n",
            "Conf Matrix of is: \n",
            " [[11531  8236]\n",
            " [ 2939 13398]]\n",
            "Recall score is: 61.93029490616622 %\n",
            "F1 score is: 70.56964525558979 %\n"
          ]
        }
      ]
    },
    {
      "cell_type": "code",
      "source": [
        "# Support Vector Machine Classifier\n",
        "\n",
        "model_l = svm.LinearSVC()\n",
        "classifiermodel(model_l,x_train, x_test,y_train,y_test)"
      ],
      "metadata": {
        "colab": {
          "base_uri": "https://localhost:8080/"
        },
        "id": "8ZqmXq_YkCAc",
        "outputId": "bcd69d90-fe18-4121-8bf3-c86c522f8562"
      },
      "execution_count": null,
      "outputs": [
        {
          "output_type": "stream",
          "name": "stdout",
          "text": [
            "Accuracy is: 54.74462663416796 %\n",
            "Conf Matrix of is: \n",
            " [[19746    21]\n",
            " [16318    19]]\n",
            "Recall score is: 47.5 %\n",
            "F1 score is: 0.23203272882701348 %\n"
          ]
        },
        {
          "output_type": "stream",
          "name": "stderr",
          "text": [
            "/usr/local/lib/python3.7/dist-packages/sklearn/svm/_base.py:1208: ConvergenceWarning: Liblinear failed to converge, increase the number of iterations.\n",
            "  ConvergenceWarning,\n"
          ]
        }
      ]
    },
    {
      "cell_type": "code",
      "source": [
        "# K-nearest Neighbours Classifier\n",
        "\n",
        "model_l = KNeighborsClassifier(n_neighbors=5)\n",
        "classifiermodel(model_l,x_train, x_test,y_train,y_test)"
      ],
      "metadata": {
        "colab": {
          "base_uri": "https://localhost:8080/"
        },
        "id": "jV2CyA8BkTEY",
        "outputId": "159d3e2d-5ad2-4588-e72e-11a5c444e36c"
      },
      "execution_count": null,
      "outputs": [
        {
          "output_type": "stream",
          "name": "stdout",
          "text": [
            "Accuracy is: 71.70396631952138 %\n",
            "Conf Matrix of is: \n",
            " [[14441  5326]\n",
            " [ 4890 11447]]\n",
            "Recall score is: 68.24658677636678 %\n",
            "F1 score is: 69.14527333131983 %\n"
          ]
        }
      ]
    },
    {
      "cell_type": "code",
      "source": [
        "# Decision Tree clasifier\n",
        "\n",
        "model_f = tree.DecisionTreeClassifier()\n",
        "model_l = tree.DecisionTreeClassifier()\n",
        "classifiermodel(model_l,x_train, x_test,y_train,y_test)"
      ],
      "metadata": {
        "colab": {
          "base_uri": "https://localhost:8080/"
        },
        "id": "WFZM3RV8kdJv",
        "outputId": "4e83690b-e088-4b25-8369-2c2659b6b8a9"
      },
      "execution_count": null,
      "outputs": [
        {
          "output_type": "stream",
          "name": "stdout",
          "text": [
            "Accuracy is: 82.86893419011744 %\n",
            "Conf Matrix of is: \n",
            " [[16952  2815]\n",
            " [ 3370 12967]]\n",
            "Recall score is: 82.16322392599163 %\n",
            "F1 score is: 80.74348516454435 %\n"
          ]
        }
      ]
    },
    {
      "cell_type": "code",
      "source": [
        "# Cross validation function to check whether data is underfit or overfit.\n",
        "\n",
        "def cross_validation_model(model_l,xl,yl):\n",
        "   \n",
        "    model_l = model_l.fit(x,y)\n",
        "    \n",
        "    scores_l = cross_val_score(model_l, x, y, cv=6)\n",
        "    print('Model used is',model_l)\n",
        "    print('Cross validation accuracy of late : %0.2f (+/- %0.2f)' % (scores_l.mean(), scores_l.std() * 2))"
      ],
      "metadata": {
        "id": "7kXcQD0tnyAa"
      },
      "execution_count": null,
      "outputs": []
    },
    {
      "cell_type": "code",
      "source": [
        "cross_validation_model(model_l,x,y)"
      ],
      "metadata": {
        "colab": {
          "base_uri": "https://localhost:8080/"
        },
        "id": "il0kI0_0oDEi",
        "outputId": "68c0e928-461a-4bf0-8c40-096fe4cb5fff"
      },
      "execution_count": null,
      "outputs": [
        {
          "output_type": "stream",
          "name": "stdout",
          "text": [
            "Model used is DecisionTreeClassifier()\n",
            "Cross validation accuracy of late : 0.83 (+/- 0.01)\n"
          ]
        }
      ]
    },
    {
      "cell_type": "code",
      "source": [
        "# Logistic regression classifier\n",
        "model_l = LogisticRegression(solver='lbfgs',random_state=0)\n",
        "classifiermodel(model_l,x_train, x_test,y_train,y_test)\n",
        "\n",
        "# GaussianNB Classifier \n",
        "model_l = GaussianNB()\n",
        "classifiermodel(model_l,x_train, x_test,y_train,y_test)\n",
        "\n",
        "# Support Vector Machine Classifier\n",
        "model_l = svm.LinearSVC()\n",
        "classifiermodel(model_l,x_train, x_test,y_train,y_test)\n",
        "\n",
        "# K-nearest Neighbours Classifier\n",
        "model_l = KNeighborsClassifier(n_neighbors=1)\n",
        "classifiermodel(model_l,x_train, x_test,y_train,y_test)\n",
        "\n",
        "# Decision Tree clasifier\n",
        "model_l = tree.DecisionTreeClassifier()\n",
        "classifiermodel(model_l,x_train, x_test,y_train,y_test)\n",
        "\n",
        "cross_validation_model(model_l,x,y)\n",
        "\n",
        "def main():\n",
        "    print(\"Modelling complete\")\n",
        "\n",
        "if __name__==\"__main__\":\n",
        "  main()"
      ],
      "metadata": {
        "colab": {
          "base_uri": "https://localhost:8080/"
        },
        "id": "0vYcKxBpzHmT",
        "outputId": "2b262e9d-9b20-4bfe-a80f-d07720b79317"
      },
      "execution_count": null,
      "outputs": [
        {
          "output_type": "stream",
          "name": "stdout",
          "text": [
            "Accuracy is: 68.50210502991358 %\n",
            "Conf Matrix of is: \n",
            " [[11118  8649]\n",
            " [ 2723 13614]]\n",
            "Recall score is: 61.150788303463145 %\n",
            "F1 score is: 70.53886010362693 %\n",
            "Accuracy is: 69.0477509417239 %\n",
            "Conf Matrix of is: \n",
            " [[11531  8236]\n",
            " [ 2939 13398]]\n",
            "Recall score is: 61.93029490616622 %\n",
            "F1 score is: 70.56964525558979 %\n"
          ]
        },
        {
          "output_type": "stream",
          "name": "stderr",
          "text": [
            "/usr/local/lib/python3.7/dist-packages/sklearn/svm/_base.py:1208: ConvergenceWarning: Liblinear failed to converge, increase the number of iterations.\n",
            "  ConvergenceWarning,\n"
          ]
        },
        {
          "output_type": "stream",
          "name": "stdout",
          "text": [
            "Accuracy is: 54.733547529359626 %\n",
            "Conf Matrix of is: \n",
            " [[19754    13]\n",
            " [16330     7]]\n",
            "Recall score is: 35.0 %\n",
            "F1 score is: 0.08559026716390536 %\n",
            "Accuracy is: 76.29071571017062 %\n",
            "Conf Matrix of is: \n",
            " [[15515  4252]\n",
            " [ 4308 12029]]\n",
            "Recall score is: 73.8836680793563 %\n",
            "F1 score is: 73.75682138696426 %\n",
            "Accuracy is: 82.8744737425216 %\n",
            "Conf Matrix of is: \n",
            " [[16941  2826]\n",
            " [ 3357 12980]]\n",
            "Recall score is: 82.12071365304315 %\n",
            "F1 score is: 80.76408549295336 %\n",
            "Model used is DecisionTreeClassifier()\n",
            "Cross validation accuracy of late : 0.83 (+/- 0.01)\n",
            "Modelling complete\n"
          ]
        }
      ]
    }
  ]
}